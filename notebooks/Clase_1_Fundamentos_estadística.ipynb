{
 "cells": [
  {
   "cell_type": "code",
   "execution_count": 5,
   "id": "615ae1e2",
   "metadata": {},
   "outputs": [],
   "source": [
    "import random\n",
    "import plotly"
   ]
  },
  {
   "cell_type": "markdown",
   "id": "b77c68d8",
   "metadata": {},
   "source": [
    "## 1. Conceptos básicos"
   ]
  },
  {
   "cell_type": "markdown",
   "id": "fe2da3cf",
   "metadata": {},
   "source": [
    "*15 minutos: Bienvenida e Introducción al Curso*\n",
    "*20 minutos: Comprendiendo los Fundamentos*\n",
    "\n",
    "25 minutos: Conceptos Fundamentales\n",
    "\n",
    "Población y su Significado\n",
    "Individuo: Definición y Ejemplos\n",
    "Muestra y Muestreo: Introducción\n",
    "Datos y Variables: Distinción y Ejemplos\n",
    "\n",
    "\n",
    "\n"
   ]
  },
  {
   "cell_type": "markdown",
   "id": "e44fb27e",
   "metadata": {},
   "source": [
    "## Importancia de la Estadística en la Toma de Decisiones:\n",
    "\n",
    "- Ayuda a tomar decisiones informadas basadas en evidencia y datos concretos.\n",
    "- Proporciona una comprensión objetiva de situaciones complejas y ayuda a evaluar riesgos.\n",
    "- Ayuda a tomar las mejores decisiones en un ambien de incertidumbre\n",
    "- Permite identificar oportunidades y áreas de mejora al analizar resultados pasados y proyectar tendencias futuras.\n",
    "- Facilita la comparación de diferentes opciones y la selección de la más favorable con base en resultados cuantificables."
   ]
  },
  {
   "cell_type": "markdown",
   "id": "29596d4a",
   "metadata": {},
   "source": [
    "## Población\n",
    "\n",
    "- En estadística, la población es el conjunto completo de elementos a partir del cual se obtienen datos para un estudio estadístico. Puede tratarse de un grupo de individuos, un conjunto de elementos, entre otros. \n",
    "- Constituye el conjunto de datos para un estudio.\n",
    "\n",
    "- Generalmente, la población se refiere a las personas que viven en una área particular en un momento específico. \n",
    "- En estadística, población se refiere a los datos de tu estudio de interés. Puede ser un grupo de individuos, objetos, eventos, organizaciones, etc. Las poblaciones se utilizan para obtener conclusiones."
   ]
  },
  {
   "cell_type": "markdown",
   "id": "95268d4d",
   "metadata": {},
   "source": [
    "# Individuo"
   ]
  },
  {
   "cell_type": "code",
   "execution_count": null,
   "id": "5a589ae1",
   "metadata": {},
   "outputs": [],
   "source": [
    "# Muestra y muestreo"
   ]
  },
  {
   "cell_type": "code",
   "execution_count": null,
   "id": "ede56669",
   "metadata": {},
   "outputs": [],
   "source": [
    "# Muestra: por que?"
   ]
  },
  {
   "cell_type": "code",
   "execution_count": null,
   "id": "ef3a5e2c",
   "metadata": {},
   "outputs": [],
   "source": [
    "# Muestreo aleatorio simple"
   ]
  },
  {
   "cell_type": "code",
   "execution_count": null,
   "id": "dcef5f1e",
   "metadata": {},
   "outputs": [],
   "source": [
    "\n",
    "population = list(range(1, 101))  # Assuming a population of 1 to 100\n",
    "sample_size = 10\n",
    "\n",
    "random_sample = random.sample(population, sample_size)\n",
    "print(\"Simple Random Sample:\", random_sample)\n"
   ]
  },
  {
   "cell_type": "markdown",
   "id": "a8c498bb",
   "metadata": {},
   "source": [
    "# Muestreo estratificado\n",
    "El muestreo estratificado es una técnica utilizada en estadísticas y en investigaciones de muestreo para obtener una muestra representativa de una población en la que se dividen previamente los elementos en grupos o estratos homogéneos en términos de ciertas características relevantes. Cada estrato se selecciona de manera independiente y luego se extrae una muestra aleatoria de cada estrato.\n",
    "\n",
    "El objetivo principal del muestreo estratificado es mejorar la precisión y la representatividad de la muestra al asegurarse de que los grupos o estratos importantes dentro de la población estén bien representados en la muestra final. Esto es particularmente útil cuando existen variaciones significativas entre los subgrupos de la población en términos de la variable de interés.\n",
    "\n",
    "Los pasos básicos para llevar a cabo un muestreo estratificado son los siguientes:\n",
    "\n",
    "- <b>Identificar los estratos</b>: Dividir la población en subgrupos (estratos) basados en ciertas características relevantes y homogéneas.\n",
    "\n",
    "- <b>Seleccionar la muestra</b>: Elegir aleatoriamente una muestra de cada estrato. La cantidad de elementos seleccionados en cada estrato puede ser proporcional al tamaño del estrato o ajustada para cumplir ciertos objetivos de precisión.\n",
    "\n",
    "- <b>Combinar las muestras estratificadas</b>: Unir las muestras extraídas de cada estrato para formar la muestra final.\n",
    "\n",
    "- Esta técnica es particularmente útil cuando se desea garantizar que subgrupos específicos de la población estén bien representados en la muestra y, al mismo tiempo, se busca mantener la eficiencia del proceso de muestreo.\n",
    "\n",
    "\n",
    "\n",
    "\n",
    "\n"
   ]
  },
  {
   "cell_type": "markdown",
   "id": "b98a3a00",
   "metadata": {},
   "source": [
    "## Ejemplo : Encuesta de Opinión Política\n",
    "\n",
    "Imaginen que desean realizar una encuesta de opinión política en una ciudad con una población diversa en términos de ingresos. Para asegurarse de obtener una representación adecuada de todas las clases sociales, se decide utilizar el muestreo estratificado.\n",
    "\n",
    "Identificación de estratos: Divides la población en tres estratos según los niveles de ingresos: bajo, medio y alto.\n",
    "\n",
    "Selección de la muestra: Dentro de cada estrato, seleccionas una muestra aleatoria de hogares para encuestar. Por ejemplo, puedes decidir encuestar a 100 hogares de cada estrato.\n",
    "\n",
    "Combinación de muestras: Luego, combinas las respuestas de los tres grupos de hogares para obtener una muestra total representativa de la población."
   ]
  },
  {
   "cell_type": "code",
   "execution_count": 29,
   "id": "5cdfddcc",
   "metadata": {},
   "outputs": [
    {
     "name": "stdout",
     "output_type": "stream",
     "text": [
      "Stratified Sample: [3, 4, 7, 20, 6, 29, 18, 12, 22, 17, 38, 42, 53, 40, 52, 47, 33, 34, 36, 60, 66, 85, 78, 91, 76, 99, 81, 79, 92, 65]\n"
     ]
    }
   ],
   "source": [
    "\n",
    "population = list(range(1, 101))  # Assuming a population of 1 to 100\n",
    "strata = {'low': range(1, 31), 'medium': range(31, 61), 'high': range(61, 101)}\n",
    "sample_size_per_stratum = 10\n",
    "\n",
    "stratified_sample = []\n",
    "for stratum, values in strata.items():\n",
    "    stratified_sample.extend(random.sample(values, sample_size_per_stratum))\n",
    "print(\"Stratified Sample:\", stratified_sample)\n"
   ]
  },
  {
   "cell_type": "markdown",
   "id": "380baa50",
   "metadata": {},
   "source": [
    "## Muestreo sistematico\n",
    "\n",
    "- El muestreo sistemático es una técnica de muestreo en la que los elementos de una población se eligen para formar una muestra siguiendo un patrón sistemático o regular. En este enfoque, se selecciona un elemento de la población inicial de manera aleatoria, y luego se eligen los elementos subsiguientes a intervalos fijos y uniformes a partir del elemento inicial. El intervalo de selección se calcula dividiendo el tamaño de la población entre el tamaño deseado de la muestra.\n",
    "\n",
    "- Este método puede ser más eficiente y práctico que el muestreo aleatorio simple cuando la población es grande y se encuentra en un orden específico. Sin embargo, es importante asegurarse de que no haya patrones ocultos o sesgos en la selección del punto de inicio y el intervalo para garantizar una muestra verdaderamente representativa.\n",
    "\n",
    "- El muestreo sistemático es una técnica ampliamente utilizada en investigaciones de campo, encuestas y análisis de calidad, ya que ofrece una forma estructurada de seleccionar elementos de la población sin tener que examinar cada uno de ellos por separado.\n",
    "\n",
    "\n",
    "\n",
    "\n",
    "\n",
    "\n",
    "\n",
    "\n"
   ]
  },
  {
   "cell_type": "markdown",
   "id": "f2e6ba14",
   "metadata": {},
   "source": [
    "## Ejemplo : Encuesta de Opinión Política utilizando Muestreo Sistemático\n",
    "\n",
    "Imagina que deseas realizar una encuesta de opinión política en una ciudad y tienes una lista de números telefónicos de posibles participantes. Quieres utilizar el muestreo sistemático para seleccionar a los encuestados.\n",
    "\n",
    "Identificación de la población: Tienes una lista de 1000 números telefónicos en la ciudad.\n",
    "\n",
    "Determinación del tamaño de la muestra: Decides que deseas encuestar a 200 personas.\n",
    "\n",
    "Cálculo del intervalo de selección: Calculas el intervalo de selección dividiendo el tamaño de la población entre el tamaño de la muestra. En este caso, el intervalo sería 1000 / 200 = 5.\n",
    "\n",
    "Selección de la muestra: Comienzas eligiendo un número aleatorio entre 1 y 5 (por ejemplo, 3). Luego, seleccionas a cada quinta persona en la lista de números telefónicos. Esto significa que encuestarás a la persona con el número 3, luego la persona con el número 8, la persona con el número 13 y así sucesivamente hasta llegar a la persona número 995.\n",
    "\n"
   ]
  },
  {
   "cell_type": "code",
   "execution_count": 3,
   "id": "6540e99e",
   "metadata": {},
   "outputs": [
    {
     "name": "stdout",
     "output_type": "stream",
     "text": [
      "Systematic Sample: [9, 19, 29, 39, 49, 59, 69, 79, 89, 99]\n"
     ]
    }
   ],
   "source": [
    "# Muestreo sistemático\n",
    "population = list(range(1, 101))  # Assuming a population of 1 to 100\n",
    "sample_interval = 10\n",
    "start_index = random.randint(0, sample_interval - 1)\n",
    "\n",
    "systematic_sample = [population[i] for i in range(start_index, len(population), sample_interval)]\n",
    "print(\"Systematic Sample:\", systematic_sample)\n"
   ]
  },
  {
   "cell_type": "markdown",
   "id": "09749004",
   "metadata": {},
   "source": [
    "## Muestreo clusterizado\n",
    "El muestreo por conglomerados es una técnica de muestreo en la que una población se divide en grupos o conglomerados más pequeños y luego se seleccionan algunos de esos conglomerados al azar para formar la muestra. En lugar de seleccionar unidades individuales de la población, como individuos o elementos, se eligen grupos enteros como unidades de muestreo primario. Luego, dentro de los conglomerados seleccionados, se puede realizar un muestreo adicional para seleccionar una muestra de las unidades individuales.\n",
    "\n",
    "Esta técnica es útil cuando la población <b>es grande y dispersa</b>, y cuando no es práctico o costoso seleccionar elementos individuales directamente. El muestreo por conglomerados puede simplificar el proceso de selección de la muestra y reducir los costos asociados con el muestreo.\n",
    "\n",
    "Los pasos básicos para llevar a cabo un muestreo por conglomerados son los siguientes:\n",
    "\n",
    "<b>División en conglomerados</b>: Dividir la población en grupos o conglomerados más pequeños, generalmente basados en ubicación geográfica u otras características.\n",
    "\n",
    "<b>Selección de conglomerados</b>: Elegir al azar algunos de los conglomerados para formar la muestra.\n",
    "\n",
    "<b>Tamaño de la muestra en cada conglomerado</b>: Determinar el tamaño de la muestra necesario dentro de cada conglomerado.\n",
    "\n",
    "<b>Selección de la muestra dentro de los conglomerados</b>: Dentro de cada conglomerado seleccionado, realizar un muestreo adicional para seleccionar elementos individuales o unidades de muestreo.\n",
    "\n",
    "El muestreo por conglomerados se utiliza comúnmente en investigaciones de campo, encuestas de poblaciones dispersas y estudios en los que es más práctico seleccionar grupos antes que individuos.\n"
   ]
  },
  {
   "cell_type": "code",
   "execution_count": 4,
   "id": "37f6139a",
   "metadata": {},
   "outputs": [
    {
     "name": "stdout",
     "output_type": "stream",
     "text": [
      "Cluster Sample: [1, 2, 4, 6, 7, 9, 11, 12]\n"
     ]
    }
   ],
   "source": [
    "# Muestreo clusterizado\n",
    "\n",
    "population = list(range(1, 101))  # Assuming a population of 1 to 100\n",
    "clusters = [[1, 2, 3], [4, 5, 6], [7, 8, 9], [10, 11, 12]]\n",
    "cluster_sample_size = 2\n",
    "\n",
    "cluster_sample = []\n",
    "for cluster in clusters:\n",
    "    cluster_sample.extend(random.sample(cluster, cluster_sample_size))\n",
    "\n",
    "print(\"Cluster Sample:\", cluster_sample)\n",
    "\n"
   ]
  },
  {
   "cell_type": "markdown",
   "id": "a7f2fb3a",
   "metadata": {},
   "source": [
    "## Ejemplo de muestreo aleatorio"
   ]
  },
  {
   "cell_type": "code",
   "execution_count": 15,
   "id": "aa8a4b25",
   "metadata": {},
   "outputs": [],
   "source": [
    "datos_dummy = plotly.data.tips()"
   ]
  },
  {
   "cell_type": "code",
   "execution_count": 16,
   "id": "9e70ad78",
   "metadata": {},
   "outputs": [
    {
     "data": {
      "text/html": [
       "<div>\n",
       "<style scoped>\n",
       "    .dataframe tbody tr th:only-of-type {\n",
       "        vertical-align: middle;\n",
       "    }\n",
       "\n",
       "    .dataframe tbody tr th {\n",
       "        vertical-align: top;\n",
       "    }\n",
       "\n",
       "    .dataframe thead th {\n",
       "        text-align: right;\n",
       "    }\n",
       "</style>\n",
       "<table border=\"1\" class=\"dataframe\">\n",
       "  <thead>\n",
       "    <tr style=\"text-align: right;\">\n",
       "      <th></th>\n",
       "      <th>total_bill</th>\n",
       "      <th>tip</th>\n",
       "      <th>sex</th>\n",
       "      <th>smoker</th>\n",
       "      <th>day</th>\n",
       "      <th>time</th>\n",
       "      <th>size</th>\n",
       "    </tr>\n",
       "  </thead>\n",
       "  <tbody>\n",
       "    <tr>\n",
       "      <th>0</th>\n",
       "      <td>16.99</td>\n",
       "      <td>1.01</td>\n",
       "      <td>Female</td>\n",
       "      <td>No</td>\n",
       "      <td>Sun</td>\n",
       "      <td>Dinner</td>\n",
       "      <td>2</td>\n",
       "    </tr>\n",
       "    <tr>\n",
       "      <th>1</th>\n",
       "      <td>10.34</td>\n",
       "      <td>1.66</td>\n",
       "      <td>Male</td>\n",
       "      <td>No</td>\n",
       "      <td>Sun</td>\n",
       "      <td>Dinner</td>\n",
       "      <td>3</td>\n",
       "    </tr>\n",
       "    <tr>\n",
       "      <th>2</th>\n",
       "      <td>21.01</td>\n",
       "      <td>3.50</td>\n",
       "      <td>Male</td>\n",
       "      <td>No</td>\n",
       "      <td>Sun</td>\n",
       "      <td>Dinner</td>\n",
       "      <td>3</td>\n",
       "    </tr>\n",
       "    <tr>\n",
       "      <th>3</th>\n",
       "      <td>23.68</td>\n",
       "      <td>3.31</td>\n",
       "      <td>Male</td>\n",
       "      <td>No</td>\n",
       "      <td>Sun</td>\n",
       "      <td>Dinner</td>\n",
       "      <td>2</td>\n",
       "    </tr>\n",
       "    <tr>\n",
       "      <th>4</th>\n",
       "      <td>24.59</td>\n",
       "      <td>3.61</td>\n",
       "      <td>Female</td>\n",
       "      <td>No</td>\n",
       "      <td>Sun</td>\n",
       "      <td>Dinner</td>\n",
       "      <td>4</td>\n",
       "    </tr>\n",
       "  </tbody>\n",
       "</table>\n",
       "</div>"
      ],
      "text/plain": [
       "   total_bill   tip     sex smoker  day    time  size\n",
       "0       16.99  1.01  Female     No  Sun  Dinner     2\n",
       "1       10.34  1.66    Male     No  Sun  Dinner     3\n",
       "2       21.01  3.50    Male     No  Sun  Dinner     3\n",
       "3       23.68  3.31    Male     No  Sun  Dinner     2\n",
       "4       24.59  3.61  Female     No  Sun  Dinner     4"
      ]
     },
     "execution_count": 16,
     "metadata": {},
     "output_type": "execute_result"
    }
   ],
   "source": [
    "datos_dummy.head()"
   ]
  },
  {
   "cell_type": "code",
   "execution_count": 18,
   "id": "7fc86198",
   "metadata": {},
   "outputs": [
    {
     "data": {
      "text/plain": [
       "19.785942622950824"
      ]
     },
     "execution_count": 18,
     "metadata": {},
     "output_type": "execute_result"
    }
   ],
   "source": [
    "datos_dummy['total_bill'].mean()"
   ]
  },
  {
   "cell_type": "code",
   "execution_count": 19,
   "id": "a7d2a851",
   "metadata": {},
   "outputs": [
    {
     "data": {
      "text/plain": [
       "244"
      ]
     },
     "execution_count": 19,
     "metadata": {},
     "output_type": "execute_result"
    }
   ],
   "source": [
    "len(datos_dummy)"
   ]
  },
  {
   "cell_type": "code",
   "execution_count": 27,
   "id": "f06a2b78",
   "metadata": {},
   "outputs": [
    {
     "name": "stdout",
     "output_type": "stream",
     "text": [
      "sample_size:  10 16.281\n",
      "sample_size:  20 19.358\n",
      "sample_size:  30 19.739\n",
      "sample_size:  40 20.211\n",
      "sample_size:  50 20.726\n",
      "sample_size:  60 20.477\n",
      "sample_size:  70 20.152\n",
      "sample_size:  80 20.912\n",
      "sample_size:  90 20.716\n",
      "sample_size:  100 21.185\n",
      "sample_size:  110 21.004\n",
      "sample_size:  120 20.442\n",
      "sample_size:  130 20.068\n",
      "sample_size:  140 19.992\n",
      "sample_size:  150 19.883\n",
      "sample_size:  160 19.935\n",
      "sample_size:  170 19.83\n",
      "sample_size:  180 19.818\n",
      "sample_size:  190 19.782\n",
      "sample_size:  200 19.675\n",
      "sample_size:  210 19.579\n",
      "sample_size:  220 19.625\n",
      "sample_size:  230 19.882\n"
     ]
    }
   ],
   "source": [
    "sample_size = list(range(10, 240, 10))\n",
    "\n",
    "for n in sample_size:\n",
    "    data = datos_dummy.sample(n=n, random_state=1)\n",
    "    print('sample_size: ',n, round(data['total_bill'].mean(),3))"
   ]
  }
 ],
 "metadata": {
  "kernelspec": {
   "display_name": "Python 3 (ipykernel)",
   "language": "python",
   "name": "python3"
  },
  "language_info": {
   "codemirror_mode": {
    "name": "ipython",
    "version": 3
   },
   "file_extension": ".py",
   "mimetype": "text/x-python",
   "name": "python",
   "nbconvert_exporter": "python",
   "pygments_lexer": "ipython3",
   "version": "3.10.9"
  }
 },
 "nbformat": 4,
 "nbformat_minor": 5
}
