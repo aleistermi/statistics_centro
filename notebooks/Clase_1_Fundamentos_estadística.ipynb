{
 "cells": [
  {
   "cell_type": "code",
   "execution_count": 5,
   "id": "0ccf4136",
   "metadata": {},
   "outputs": [],
   "source": [
    "import random\n",
    "import plotly"
   ]
  },
  {
   "cell_type": "markdown",
   "id": "b77c68d8",
   "metadata": {},
   "source": [
    "## 1. Conceptos básicos"
   ]
  },
  {
   "cell_type": "markdown",
   "id": "d4c1c252",
   "metadata": {},
   "source": [
    "*15 minutos: Bienvenida e Introducción al Curso*\n",
    "*20 minutos: Comprendiendo los Fundamentos*\n",
    "\n",
    "25 minutos: Conceptos Fundamentales\n",
    "\n",
    "Población y su Significado\n",
    "Individuo: Definición y Ejemplos\n",
    "Muestra y Muestreo: Introducción\n",
    "Datos y Variables: Distinción y Ejemplos"
   ]
  },
  {
   "cell_type": "markdown",
   "id": "aa36e84e",
   "metadata": {},
   "source": [
    "## Importancia de la Estadística en la Toma de Decisiones:\n",
    "\n",
    "- Ayuda a tomar decisiones informadas basadas en evidencia y datos concretos.\n",
    "- Proporciona una comprensión objetiva de situaciones complejas y ayuda a evaluar riesgos.\n",
    "- Ayuda a tomar las mejores decisiones en un ambien de incertidumbre\n",
    "- Permite identificar oportunidades y áreas de mejora al analizar resultados pasados y proyectar tendencias futuras.\n",
    "- Facilita la comparación de diferentes opciones y la selección de la más favorable con base en resultados cuantificables."
   ]
  },
  {
   "cell_type": "markdown",
   "id": "1652e212",
   "metadata": {},
   "source": [
    "## Población\n",
    "\n",
    "- En estadística, la población es el conjunto completo de elementos a partir del cual se obtienen datos para un estudio estadístico. Puede tratarse de un grupo de individuos, un conjunto de elementos, entre otros. \n",
    "- Constituye el conjunto de datos para un estudio.\n",
    "\n",
    "- Generalmente, la población se refiere a las personas que viven en una área particular en un momento específico. \n",
    "- En estadística, población se refiere a los datos de tu estudio de interés. Puede ser un grupo de individuos, objetos, eventos, organizaciones, etc. Las poblaciones se utilizan para obtener conclusiones."
   ]
  },
  {
   "cell_type": "markdown",
   "id": "89529a05",
   "metadata": {},
   "source": [
    "# Individuo"
   ]
  },
  {
   "cell_type": "code",
   "execution_count": null,
   "id": "68bcd6c0",
   "metadata": {},
   "outputs": [],
   "source": [
    "# Muestra y muestreo"
   ]
  },
  {
   "cell_type": "code",
   "execution_count": null,
   "id": "337c20d4",
   "metadata": {},
   "outputs": [],
   "source": [
    "# Muestra: por que?"
   ]
  },
  {
   "cell_type": "code",
   "execution_count": null,
   "id": "899887bc",
   "metadata": {},
   "outputs": [],
   "source": [
    "# Muestreo aleatorio"
   ]
  },
  {
   "cell_type": "code",
   "execution_count": null,
   "id": "32146bed",
   "metadata": {},
   "outputs": [],
   "source": [
    "\n",
    "population = list(range(1, 101))  # Assuming a population of 1 to 100\n",
    "sample_size = 10\n",
    "\n",
    "random_sample = random.sample(population, sample_size)\n",
    "print(\"Simple Random Sample:\", random_sample)\n"
   ]
  },
  {
   "cell_type": "code",
   "execution_count": null,
   "id": "f9f72238",
   "metadata": {},
   "outputs": [],
   "source": [
    "# Muestreo estratificado"
   ]
  },
  {
   "cell_type": "code",
   "execution_count": 2,
   "id": "6ba545c3",
   "metadata": {},
   "outputs": [
    {
     "name": "stdout",
     "output_type": "stream",
     "text": [
      "Stratified Sample: [25, 12, 46, 39, 72, 87]\n"
     ]
    }
   ],
   "source": [
    "\n",
    "population = list(range(1, 101))  # Assuming a population of 1 to 100\n",
    "strata = {'low': range(1, 31), 'medium': range(31, 61), 'high': range(61, 101)}\n",
    "sample_size_per_stratum = 2\n",
    "\n",
    "stratified_sample = []\n",
    "for stratum, values in strata.items():\n",
    "    stratified_sample.extend(random.sample(values, sample_size_per_stratum))\n",
    "\n",
    "print(\"Stratified Sample:\", stratified_sample)\n"
   ]
  },
  {
   "cell_type": "code",
   "execution_count": 3,
   "id": "73af9fee",
   "metadata": {},
   "outputs": [
    {
     "name": "stdout",
     "output_type": "stream",
     "text": [
      "Systematic Sample: [9, 19, 29, 39, 49, 59, 69, 79, 89, 99]\n"
     ]
    }
   ],
   "source": [
    "# Muestreo sistemático\n",
    "population = list(range(1, 101))  # Assuming a population of 1 to 100\n",
    "sample_interval = 10\n",
    "start_index = random.randint(0, sample_interval - 1)\n",
    "\n",
    "systematic_sample = [population[i] for i in range(start_index, len(population), sample_interval)]\n",
    "print(\"Systematic Sample:\", systematic_sample)\n"
   ]
  },
  {
   "cell_type": "code",
   "execution_count": 4,
   "id": "ff2098ae",
   "metadata": {},
   "outputs": [
    {
     "name": "stdout",
     "output_type": "stream",
     "text": [
      "Cluster Sample: [1, 2, 4, 6, 7, 9, 11, 12]\n"
     ]
    }
   ],
   "source": [
    "# Muestreo clusterizado\n",
    "import random\n",
    "\n",
    "population = list(range(1, 101))  # Assuming a population of 1 to 100\n",
    "clusters = [[1, 2, 3], [4, 5, 6], [7, 8, 9], [10, 11, 12]]\n",
    "cluster_sample_size = 2\n",
    "\n",
    "cluster_sample = []\n",
    "for cluster in clusters:\n",
    "    cluster_sample.extend(random.sample(cluster, cluster_sample_size))\n",
    "\n",
    "print(\"Cluster Sample:\", cluster_sample)\n",
    "\n"
   ]
  },
  {
   "cell_type": "code",
   "execution_count": 15,
   "id": "6f557ddd",
   "metadata": {},
   "outputs": [],
   "source": [
    "datos_dummy = plotly.data.tips()"
   ]
  },
  {
   "cell_type": "code",
   "execution_count": 16,
   "id": "c6c86acc",
   "metadata": {},
   "outputs": [
    {
     "data": {
      "text/html": [
       "<div>\n",
       "<style scoped>\n",
       "    .dataframe tbody tr th:only-of-type {\n",
       "        vertical-align: middle;\n",
       "    }\n",
       "\n",
       "    .dataframe tbody tr th {\n",
       "        vertical-align: top;\n",
       "    }\n",
       "\n",
       "    .dataframe thead th {\n",
       "        text-align: right;\n",
       "    }\n",
       "</style>\n",
       "<table border=\"1\" class=\"dataframe\">\n",
       "  <thead>\n",
       "    <tr style=\"text-align: right;\">\n",
       "      <th></th>\n",
       "      <th>total_bill</th>\n",
       "      <th>tip</th>\n",
       "      <th>sex</th>\n",
       "      <th>smoker</th>\n",
       "      <th>day</th>\n",
       "      <th>time</th>\n",
       "      <th>size</th>\n",
       "    </tr>\n",
       "  </thead>\n",
       "  <tbody>\n",
       "    <tr>\n",
       "      <th>0</th>\n",
       "      <td>16.99</td>\n",
       "      <td>1.01</td>\n",
       "      <td>Female</td>\n",
       "      <td>No</td>\n",
       "      <td>Sun</td>\n",
       "      <td>Dinner</td>\n",
       "      <td>2</td>\n",
       "    </tr>\n",
       "    <tr>\n",
       "      <th>1</th>\n",
       "      <td>10.34</td>\n",
       "      <td>1.66</td>\n",
       "      <td>Male</td>\n",
       "      <td>No</td>\n",
       "      <td>Sun</td>\n",
       "      <td>Dinner</td>\n",
       "      <td>3</td>\n",
       "    </tr>\n",
       "    <tr>\n",
       "      <th>2</th>\n",
       "      <td>21.01</td>\n",
       "      <td>3.50</td>\n",
       "      <td>Male</td>\n",
       "      <td>No</td>\n",
       "      <td>Sun</td>\n",
       "      <td>Dinner</td>\n",
       "      <td>3</td>\n",
       "    </tr>\n",
       "    <tr>\n",
       "      <th>3</th>\n",
       "      <td>23.68</td>\n",
       "      <td>3.31</td>\n",
       "      <td>Male</td>\n",
       "      <td>No</td>\n",
       "      <td>Sun</td>\n",
       "      <td>Dinner</td>\n",
       "      <td>2</td>\n",
       "    </tr>\n",
       "    <tr>\n",
       "      <th>4</th>\n",
       "      <td>24.59</td>\n",
       "      <td>3.61</td>\n",
       "      <td>Female</td>\n",
       "      <td>No</td>\n",
       "      <td>Sun</td>\n",
       "      <td>Dinner</td>\n",
       "      <td>4</td>\n",
       "    </tr>\n",
       "  </tbody>\n",
       "</table>\n",
       "</div>"
      ],
      "text/plain": [
       "   total_bill   tip     sex smoker  day    time  size\n",
       "0       16.99  1.01  Female     No  Sun  Dinner     2\n",
       "1       10.34  1.66    Male     No  Sun  Dinner     3\n",
       "2       21.01  3.50    Male     No  Sun  Dinner     3\n",
       "3       23.68  3.31    Male     No  Sun  Dinner     2\n",
       "4       24.59  3.61  Female     No  Sun  Dinner     4"
      ]
     },
     "execution_count": 16,
     "metadata": {},
     "output_type": "execute_result"
    }
   ],
   "source": [
    "datos_dummy.head()"
   ]
  },
  {
   "cell_type": "code",
   "execution_count": 18,
   "id": "7bd07611",
   "metadata": {},
   "outputs": [
    {
     "data": {
      "text/plain": [
       "19.785942622950824"
      ]
     },
     "execution_count": 18,
     "metadata": {},
     "output_type": "execute_result"
    }
   ],
   "source": [
    "datos_dummy['total_bill'].mean()"
   ]
  },
  {
   "cell_type": "code",
   "execution_count": 19,
   "id": "9dd8c614",
   "metadata": {},
   "outputs": [
    {
     "data": {
      "text/plain": [
       "244"
      ]
     },
     "execution_count": 19,
     "metadata": {},
     "output_type": "execute_result"
    }
   ],
   "source": [
    "len(datos_dummy)"
   ]
  },
  {
   "cell_type": "code",
   "execution_count": 20,
   "id": "200c16cd",
   "metadata": {},
   "outputs": [
    {
     "name": "stdout",
     "output_type": "stream",
     "text": [
      "[0, 2, 4, 6, 8]\n"
     ]
    }
   ],
   "source": []
  },
  {
   "cell_type": "code",
   "execution_count": 27,
   "id": "4a09f375",
   "metadata": {},
   "outputs": [
    {
     "name": "stdout",
     "output_type": "stream",
     "text": [
      "sample_size:  10 16.281\n",
      "sample_size:  20 19.358\n",
      "sample_size:  30 19.739\n",
      "sample_size:  40 20.211\n",
      "sample_size:  50 20.726\n",
      "sample_size:  60 20.477\n",
      "sample_size:  70 20.152\n",
      "sample_size:  80 20.912\n",
      "sample_size:  90 20.716\n",
      "sample_size:  100 21.185\n",
      "sample_size:  110 21.004\n",
      "sample_size:  120 20.442\n",
      "sample_size:  130 20.068\n",
      "sample_size:  140 19.992\n",
      "sample_size:  150 19.883\n",
      "sample_size:  160 19.935\n",
      "sample_size:  170 19.83\n",
      "sample_size:  180 19.818\n",
      "sample_size:  190 19.782\n",
      "sample_size:  200 19.675\n",
      "sample_size:  210 19.579\n",
      "sample_size:  220 19.625\n",
      "sample_size:  230 19.882\n"
     ]
    }
   ],
   "source": [
    "sample_size = list(range(10, 240, 10))\n",
    "\n",
    "for n in sample_size:\n",
    "    data = datos_dummy.sample(n=n, random_state=1)\n",
    "    print('sample_size: ',n, round(data['total_bill'].mean(),3))"
   ]
  }
 ],
 "metadata": {
  "kernelspec": {
   "display_name": "Python 3 (ipykernel)",
   "language": "python",
   "name": "python3"
  },
  "language_info": {
   "codemirror_mode": {
    "name": "ipython",
    "version": 3
   },
   "file_extension": ".py",
   "mimetype": "text/x-python",
   "name": "python",
   "nbconvert_exporter": "python",
   "pygments_lexer": "ipython3",
   "version": "3.9.12"
  }
 },
 "nbformat": 4,
 "nbformat_minor": 5
}
