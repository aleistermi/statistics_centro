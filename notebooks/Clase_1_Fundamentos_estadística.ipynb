{
 "cells": [
  {
   "cell_type": "code",
   "execution_count": 1,
   "id": "1935d237",
   "metadata": {},
   "outputs": [],
   "source": [
    "import random\n"
   ]
  },
  {
   "cell_type": "markdown",
   "id": "b77c68d8",
   "metadata": {},
   "source": [
    "## 1. Conceptos básicos"
   ]
  },
  {
   "cell_type": "markdown",
   "id": "bad0754f",
   "metadata": {},
   "source": [
    "*15 minutos: Bienvenida e Introducción al Curso*\n",
    "*20 minutos: Comprendiendo los Fundamentos*\n",
    "\n",
    "25 minutos: Conceptos Fundamentales\n",
    "\n",
    "Población y su Significado\n",
    "Individuo: Definición y Ejemplos\n",
    "Muestra y Muestreo: Introducción\n",
    "Datos y Variables: Distinción y Ejemplos\n",
    "\n",
    "\n",
    "\n"
   ]
  },
  {
   "cell_type": "markdown",
   "id": "f43bb083",
   "metadata": {},
   "source": [
    "## Importancia de la Estadística en la Toma de Decisiones:\n",
    "\n",
    "- Ayuda a tomar decisiones informadas basadas en evidencia y datos concretos.\n",
    "- Proporciona una comprensión objetiva de situaciones complejas y ayuda a evaluar riesgos.\n",
    "- Ayuda a tomar las mejores decisiones en un ambien de incertidumbre\n",
    "- Permite identificar oportunidades y áreas de mejora al analizar resultados pasados y proyectar tendencias futuras.\n",
    "- Facilita la comparación de diferentes opciones y la selección de la más favorable con base en resultados cuantificables."
   ]
  },
  {
   "cell_type": "markdown",
   "id": "03e0c2ec",
   "metadata": {},
   "source": [
    "## Población\n",
    "\n",
    "- En estadística, la población es el conjunto completo de elementos a partir del cual se obtienen datos para un estudio estadístico. Puede tratarse de un grupo de individuos, un conjunto de elementos, entre otros. \n",
    "- Constituye el conjunto de datos para un estudio.\n",
    "\n",
    "- Generalmente, la población se refiere a las personas que viven en una área particular en un momento específico. \n",
    "- En estadística, población se refiere a los datos de tu estudio de interés. Puede ser un grupo de individuos, objetos, eventos, organizaciones, etc. Las poblaciones se utilizan para obtener conclusiones."
   ]
  },
  {
   "cell_type": "markdown",
   "id": "1f824499",
   "metadata": {},
   "source": [
    "# Individuo"
   ]
  },
  {
   "cell_type": "code",
   "execution_count": null,
   "id": "224d12a2",
   "metadata": {},
   "outputs": [],
   "source": [
    "# Muestra y muestreo"
   ]
  },
  {
   "cell_type": "code",
   "execution_count": null,
   "id": "530a976f",
   "metadata": {},
   "outputs": [],
   "source": [
    "# Muestra: por que?"
   ]
  },
  {
   "cell_type": "code",
   "execution_count": null,
   "id": "66a23acc",
   "metadata": {},
   "outputs": [],
   "source": [
    "# Muestreo aleatorio"
   ]
  },
  {
   "cell_type": "code",
   "execution_count": null,
   "id": "fbba53d1",
   "metadata": {},
   "outputs": [],
   "source": [
    "\n",
    "population = list(range(1, 101))  # Assuming a population of 1 to 100\n",
    "sample_size = 10\n",
    "\n",
    "random_sample = random.sample(population, sample_size)\n",
    "print(\"Simple Random Sample:\", random_sample)\n"
   ]
  },
  {
   "cell_type": "code",
   "execution_count": null,
   "id": "5147b215",
   "metadata": {},
   "outputs": [],
   "source": [
    "# Muestreo estratificado"
   ]
  },
  {
   "cell_type": "code",
   "execution_count": null,
   "id": "5eeb61bb",
   "metadata": {},
   "outputs": [],
   "source": [
    "\n",
    "population = list(range(1, 101))  # Assuming a population of 1 to 100\n",
    "strata = {'low': range(1, 31), 'medium': range(31, 61), 'high': range(61, 101)}\n",
    "sample_size_per_stratum = 2\n",
    "\n",
    "stratified_sample = []\n",
    "for stratum, values in strata.items():\n",
    "    stratified_sample.extend(random.sample(values, sample_size_per_stratum))\n",
    "\n",
    "print(\"Stratified Sample:\", stratified_sample)\n"
   ]
  },
  {
   "cell_type": "code",
   "execution_count": null,
   "id": "33e3a558",
   "metadata": {},
   "outputs": [],
   "source": [
    "# Muestreo sistemático\n",
    "population = list(range(1, 101))  # Assuming a population of 1 to 100\n",
    "sample_interval = 10\n",
    "start_index = random.randint(0, sample_interval - 1)\n",
    "\n",
    "systematic_sample = [population[i] for i in range(start_index, len(population), sample_interval)]\n",
    "print(\"Systematic Sample:\", systematic_sample)\n"
   ]
  },
  {
   "cell_type": "code",
   "execution_count": null,
   "id": "5e54688e",
   "metadata": {},
   "outputs": [],
   "source": [
    "# Muestreo clusterizado\n",
    "import random\n",
    "\n",
    "population = list(range(1, 101))  # Assuming a population of 1 to 100\n",
    "clusters = [[1, 2, 3], [4, 5, 6], [7, 8, 9], [10, 11, 12]]\n",
    "cluster_sample_size = 2\n",
    "\n",
    "cluster_sample = []\n",
    "for cluster in clusters:\n",
    "    cluster_sample.extend(random.sample(cluster, cluster_sample_size))\n",
    "\n",
    "print(\"Cluster Sample:\", cluster_sample)\n",
    "\n"
   ]
  },
  {
   "cell_type": "code",
   "execution_count": null,
   "id": "31891fcc",
   "metadata": {},
   "outputs": [],
   "source": [
    "# Dato y variable"
   ]
  },
  {
   "cell_type": "code",
   "execution_count": null,
   "id": "e677df8c",
   "metadata": {},
   "outputs": [],
   "source": []
  }
 ],
 "metadata": {
  "kernelspec": {
   "display_name": "Python 3 (ipykernel)",
   "language": "python",
   "name": "python3"
  },
  "language_info": {
   "codemirror_mode": {
    "name": "ipython",
    "version": 3
   },
   "file_extension": ".py",
   "mimetype": "text/x-python",
   "name": "python",
   "nbconvert_exporter": "python",
   "pygments_lexer": "ipython3",
   "version": "3.10.9"
  }
 },
 "nbformat": 4,
 "nbformat_minor": 5
}
